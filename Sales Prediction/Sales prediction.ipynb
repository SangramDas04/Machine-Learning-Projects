{
 "cells": [
  {
   "cell_type": "markdown",
   "id": "81e1bfca-9b64-4761-907c-a0e94e91bb55",
   "metadata": {},
   "source": [
    "## Let’s start the task of sales prediction with machine learning using Python. I’ll start this task by importing the necessary Python libraries and the dataset:"
   ]
  },
  {
   "cell_type": "code",
   "execution_count": 17,
   "id": "4f9dc93f-5dc9-486e-bf6e-053265b72ad3",
   "metadata": {},
   "outputs": [],
   "source": [
    "# Importing all the required packages and libraries\n",
    "\n",
    "import pandas as pd\n",
    "import numpy as np\n",
    "import seaborn as sns\n",
    "import matplotlib.pyplot as plt\n",
    "from sklearn.model_selection import train_test_split\n",
    "from sklearn.preprocessing import StandardScaler\n",
    "from sklearn.linear_model import LinearRegression\n",
    "from sklearn.metrics import accuracy_score\n",
    "from sklearn.metrics import confusion_matrix\n",
    "%matplotlib inline"
   ]
  },
  {
   "cell_type": "code",
   "execution_count": 18,
   "id": "d2b5946f-2cd2-4923-9f78-45f620f345db",
   "metadata": {},
   "outputs": [
    {
     "data": {
      "text/html": [
       "<div>\n",
       "<style scoped>\n",
       "    .dataframe tbody tr th:only-of-type {\n",
       "        vertical-align: middle;\n",
       "    }\n",
       "\n",
       "    .dataframe tbody tr th {\n",
       "        vertical-align: top;\n",
       "    }\n",
       "\n",
       "    .dataframe thead th {\n",
       "        text-align: right;\n",
       "    }\n",
       "</style>\n",
       "<table border=\"1\" class=\"dataframe\">\n",
       "  <thead>\n",
       "    <tr style=\"text-align: right;\">\n",
       "      <th></th>\n",
       "      <th>TV</th>\n",
       "      <th>Radio</th>\n",
       "      <th>Newspaper</th>\n",
       "      <th>Sales</th>\n",
       "    </tr>\n",
       "  </thead>\n",
       "  <tbody>\n",
       "    <tr>\n",
       "      <th>0</th>\n",
       "      <td>230.1</td>\n",
       "      <td>37.8</td>\n",
       "      <td>69.2</td>\n",
       "      <td>22.1</td>\n",
       "    </tr>\n",
       "    <tr>\n",
       "      <th>1</th>\n",
       "      <td>44.5</td>\n",
       "      <td>39.3</td>\n",
       "      <td>45.1</td>\n",
       "      <td>10.4</td>\n",
       "    </tr>\n",
       "    <tr>\n",
       "      <th>2</th>\n",
       "      <td>17.2</td>\n",
       "      <td>45.9</td>\n",
       "      <td>69.3</td>\n",
       "      <td>12.0</td>\n",
       "    </tr>\n",
       "    <tr>\n",
       "      <th>3</th>\n",
       "      <td>151.5</td>\n",
       "      <td>41.3</td>\n",
       "      <td>58.5</td>\n",
       "      <td>16.5</td>\n",
       "    </tr>\n",
       "    <tr>\n",
       "      <th>4</th>\n",
       "      <td>180.8</td>\n",
       "      <td>10.8</td>\n",
       "      <td>58.4</td>\n",
       "      <td>17.9</td>\n",
       "    </tr>\n",
       "  </tbody>\n",
       "</table>\n",
       "</div>"
      ],
      "text/plain": [
       "      TV  Radio  Newspaper  Sales\n",
       "0  230.1   37.8       69.2   22.1\n",
       "1   44.5   39.3       45.1   10.4\n",
       "2   17.2   45.9       69.3   12.0\n",
       "3  151.5   41.3       58.5   16.5\n",
       "4  180.8   10.8       58.4   17.9"
      ]
     },
     "execution_count": 18,
     "metadata": {},
     "output_type": "execute_result"
    }
   ],
   "source": [
    "# Reading the data from an external source\n",
    "\n",
    "df = pd.read_csv(\"https://raw.githubusercontent.com/amankharwal/Website-data/master/advertising.csv\")\n",
    "df.head()"
   ]
  },
  {
   "cell_type": "code",
   "execution_count": 19,
   "id": "780428b6-a5be-42ab-a81a-0dec42cea5a2",
   "metadata": {},
   "outputs": [
    {
     "data": {
      "text/plain": [
       "(200, 4)"
      ]
     },
     "execution_count": 19,
     "metadata": {},
     "output_type": "execute_result"
    }
   ],
   "source": [
    "df.shape"
   ]
  },
  {
   "cell_type": "code",
   "execution_count": 20,
   "id": "3e2f94e0-ab68-4df2-aa05-2b952196f49c",
   "metadata": {},
   "outputs": [
    {
     "name": "stdout",
     "output_type": "stream",
     "text": [
      "<class 'pandas.core.frame.DataFrame'>\n",
      "RangeIndex: 200 entries, 0 to 199\n",
      "Data columns (total 4 columns):\n",
      " #   Column     Non-Null Count  Dtype  \n",
      "---  ------     --------------  -----  \n",
      " 0   TV         200 non-null    float64\n",
      " 1   Radio      200 non-null    float64\n",
      " 2   Newspaper  200 non-null    float64\n",
      " 3   Sales      200 non-null    float64\n",
      "dtypes: float64(4)\n",
      "memory usage: 6.4 KB\n"
     ]
    }
   ],
   "source": [
    "df.info()"
   ]
  },
  {
   "cell_type": "code",
   "execution_count": 21,
   "id": "6393d245-c412-4d7f-9561-91a6f177ab75",
   "metadata": {},
   "outputs": [
    {
     "data": {
      "text/plain": [
       "TV           0\n",
       "Radio        0\n",
       "Newspaper    0\n",
       "Sales        0\n",
       "dtype: int64"
      ]
     },
     "execution_count": 21,
     "metadata": {},
     "output_type": "execute_result"
    }
   ],
   "source": [
    "df.isnull().sum()"
   ]
  },
  {
   "cell_type": "markdown",
   "id": "c4d0ee97-00f6-40c1-bd48-aef2a5c3543f",
   "metadata": {},
   "source": [
    "### So this dataset does not contain any null values. Now let’s take a look at the correlation between features before we start training a machine learning model to predict future sales:"
   ]
  },
  {
   "cell_type": "code",
   "execution_count": 22,
   "id": "21173549-d9ef-4826-b434-b6f9858ae7fa",
   "metadata": {},
   "outputs": [
    {
     "data": {
      "image/png": "[encoded data removed]",
      "text/plain": [
       "<Figure size 700x500 with 2 Axes>"
      ]
     },
     "metadata": {},
     "output_type": "display_data"
    }
   ],
   "source": [
    "# correlation between the features in the dataset:\n",
    "\n",
    "plt.figure(figsize = (7,5))\n",
    "sns.heatmap(df.corr(),annot = True, cmap = \"coolwarm\", linecolor = \"white\", linewidths = 2)\n",
    "plt.xlabel(\"Predicted Value\")\n",
    "plt.ylabel(\"Actual Value\")\n",
    "plt.title(\"Correlation between the Numerical features\")\n",
    "plt.show()"
   ]
  },
  {
   "cell_type": "markdown",
   "id": "77bcabb1-5bd1-4b51-8cb4-1444849e5521",
   "metadata": {},
   "source": [
    "### Now let’s prepare the data to fit into a machine learning model."
   ]
  },
  {
   "cell_type": "code",
   "execution_count": 23,
   "id": "bf32d6b4-35d9-4633-9e1c-b860be1321c5",
   "metadata": {},
   "outputs": [],
   "source": [
    "X = df.drop(\"Sales\", axis = 1)\n",
    "y = df.Sales"
   ]
  },
  {
   "cell_type": "code",
   "execution_count": 62,
   "id": "9e82bf62-caf4-4cb0-a867-e733d40d4abe",
   "metadata": {},
   "outputs": [],
   "source": [
    "# Splitting the data into train and test set\n",
    "\n",
    "X_train, X_test, y_train, y_test = train_test_split(X, y, test_size = 0.2, random_state = 30)"
   ]
  },
  {
   "cell_type": "markdown",
   "id": "5fe57b2b-7446-4503-882f-c141be4506ad",
   "metadata": {},
   "source": [
    "### I will use a linear regression algorithm to train a sales prediction model using Python:"
   ]
  },
  {
   "cell_type": "code",
   "execution_count": 63,
   "id": "87a73f3e-426b-4f0e-b8e7-213fafefa831",
   "metadata": {},
   "outputs": [],
   "source": [
    "# Using Linear Regression for classification\n",
    "\n",
    "lr = LinearRegression()\n",
    "lr.fit(X_train, y_train)\n",
    "y_pred = lr.predict(X_test)"
   ]
  },
  {
   "cell_type": "code",
   "execution_count": 64,
   "id": "7c0ed3b8-75af-4afa-9aaf-ea9ad1696cce",
   "metadata": {},
   "outputs": [
    {
     "data": {
      "text/plain": [
       "0.9073191500253454"
      ]
     },
     "execution_count": 64,
     "metadata": {},
     "output_type": "execute_result"
    }
   ],
   "source": [
    "# checking the accuracy of our model\n",
    "\n",
    "lr.score(X_test, y_test)"
   ]
  },
  {
   "cell_type": "code",
   "execution_count": 87,
   "id": "fa0a3f69-8659-4742-a78c-181bfd225fa4",
   "metadata": {},
   "outputs": [
    {
     "name": "stdout",
     "output_type": "stream",
     "text": [
      "     Predicted Value:  Actual Value:\n",
      "1           11.259634           10.4\n",
      "21          18.277074           17.5\n",
      "24           9.395654            9.7\n",
      "25          19.491488           17.0\n",
      "26          15.461078           15.0\n",
      "36          23.674814           25.4\n",
      "50          16.079002           16.4\n",
      "54          22.001397           20.2\n",
      "57          14.102289           13.2\n",
      "63          13.261510           14.0\n",
      "67          13.762450           13.4\n",
      "72           9.504041            8.8\n",
      "81          18.387045           17.3\n",
      "86          11.647139           12.0\n",
      "93          22.459511           22.2\n",
      "97          16.986148           20.5\n",
      "99          16.480468           17.2\n",
      "100         17.528598           16.7\n",
      "101         25.103332           23.8\n",
      "103         16.744779           19.7\n",
      "106          7.255992            7.2\n",
      "111         21.816840           21.8\n",
      "114         13.799347           14.6\n",
      "121          8.112749            7.0\n",
      "124         20.874872           19.7\n",
      "126          9.238757            6.6\n",
      "129          9.333119            9.7\n",
      "133         20.292253           19.6\n",
      "139         19.167671           20.7\n",
      "142         20.258162           20.1\n",
      "143         11.117249           10.4\n",
      "149          9.770090           10.1\n",
      "150         21.615707           16.1\n",
      "158          9.219966            7.3\n",
      "171         16.006517           17.5\n",
      "183         25.122698           26.2\n",
      "184         20.842573           17.6\n",
      "189          6.983905            6.7\n",
      "193         17.995137           19.6\n",
      "199         18.250992           18.4\n"
     ]
    }
   ],
   "source": [
    "# Printing the predicted value as well as the test value to check\n",
    "# how well our model predicts the Sales\n",
    "\n",
    "dict = {\"Predicted Value:\" : y_pred,\n",
    "        \"Actual Value:\" : y_test}\n",
    "print(pd.DataFrame(data = dict).sort_index())"
   ]
  },
  {
   "cell_type": "code",
   "execution_count": null,
   "id": "f70ce8b0-7e3c-44b9-be87-6bccb130506d",
   "metadata": {},
   "outputs": [],
   "source": []
  },
  {
   "cell_type": "code",
   "execution_count": null,
   "id": "f074e9c7-984e-4333-b692-82bbf314965f",
   "metadata": {},
   "outputs": [],
   "source": []
  }
 ],
 "metadata": {
  "kernelspec": {
   "display_name": "Python 3 (ipykernel)",
   "language": "python",
   "name": "python3"
  },
  "language_info": {
   "codemirror_mode": {
    "name": "ipython",
    "version": 3
   },
   "file_extension": ".py",
   "mimetype": "text/x-python",
   "name": "python",
   "nbconvert_exporter": "python",
   "pygments_lexer": "ipython3",
   "version": "3.12.1"
  }
 },
 "nbformat": 4,
 "nbformat_minor": 5
}
